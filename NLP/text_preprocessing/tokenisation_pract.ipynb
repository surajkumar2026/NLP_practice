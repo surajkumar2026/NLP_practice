{
 "cells": [
  {
   "cell_type": "code",
   "execution_count": 21,
   "metadata": {},
   "outputs": [
    {
     "name": "stderr",
     "output_type": "stream",
     "text": [
      "[nltk_data] Downloading package punkt_tab to\n",
      "[nltk_data]     e:\\NLP_practice\\venv\\nltk_data...\n",
      "[nltk_data]   Unzipping tokenizers\\punkt_tab.zip.\n"
     ]
    },
    {
     "data": {
      "text/plain": [
       "True"
      ]
     },
     "execution_count": 21,
     "metadata": {},
     "output_type": "execute_result"
    }
   ],
   "source": [
    "\n",
    "  >>> import nltk\n",
    "  >>> nltk.download('punkt_tab')\n"
   ]
  },
  {
   "cell_type": "code",
   "execution_count": 1,
   "metadata": {},
   "outputs": [
    {
     "data": {
      "text/plain": [
       "'I am Iron Man.I am Batman. \\n\\nI am Spiderman and I am Superman. I am the Hulk.'"
      ]
     },
     "execution_count": 1,
     "metadata": {},
     "output_type": "execute_result"
    }
   ],
   "source": [
    "#use escape character in corpus like \\n for new line\n",
    "corpus = \"\"\"I am Iron Man.I am Batman. \\n\n",
    "I am Spiderman and I am Superman. I am the Hulk.\"\"\"\n",
    "corpus   "
   ]
  },
  {
   "cell_type": "code",
   "execution_count": 2,
   "metadata": {},
   "outputs": [
    {
     "name": "stdout",
     "output_type": "stream",
     "text": [
      "['I am Iron Man.I am Batman.', 'I am Spiderman and I am Superman.', 'I am the Hulk.']\n"
     ]
    }
   ],
   "source": [
    "from nltk.tokenize import sent_tokenize\n",
    "#output should not be in one line for corpus\n",
    "\n",
    "#text = \"Hello, Mr. Smith. How are you today? The weather is great, and city is awesome. The sky is pinkish-blue. You shouldn't eat cardboard\"\n",
    "print(sent_tokenize(corpus))\n",
    "\n",
    "\n"
   ]
  },
  {
   "cell_type": "code",
   "execution_count": 3,
   "metadata": {},
   "outputs": [],
   "source": [
    "documents=sent_tokenize(corpus)"
   ]
  },
  {
   "cell_type": "code",
   "execution_count": 4,
   "metadata": {},
   "outputs": [
    {
     "data": {
      "text/plain": [
       "list"
      ]
     },
     "execution_count": 4,
     "metadata": {},
     "output_type": "execute_result"
    }
   ],
   "source": [
    "type(documents)"
   ]
  },
  {
   "cell_type": "code",
   "execution_count": 5,
   "metadata": {},
   "outputs": [
    {
     "name": "stdout",
     "output_type": "stream",
     "text": [
      "I am Iron Man.I am Batman.\n",
      " \n",
      "I am Spiderman and I am Superman.\n",
      " \n",
      "I am the Hulk.\n",
      " \n"
     ]
    }
   ],
   "source": [
    "for sentences in documents:\n",
    "    print(sentences)\n",
    "    print(\" \")"
   ]
  },
  {
   "cell_type": "code",
   "execution_count": 6,
   "metadata": {},
   "outputs": [],
   "source": [
    "#tokenize words\n",
    "##par->words\n",
    "##sentence->words\n",
    "from nltk.tokenize import word_tokenize\n",
    "words = word_tokenize(corpus)"
   ]
  },
  {
   "cell_type": "code",
   "execution_count": 7,
   "metadata": {},
   "outputs": [
    {
     "data": {
      "text/plain": [
       "['I',\n",
       " 'am',\n",
       " 'Iron',\n",
       " 'Man.I',\n",
       " 'am',\n",
       " 'Batman',\n",
       " '.',\n",
       " 'I',\n",
       " 'am',\n",
       " 'Spiderman',\n",
       " 'and',\n",
       " 'I',\n",
       " 'am',\n",
       " 'Superman',\n",
       " '.',\n",
       " 'I',\n",
       " 'am',\n",
       " 'the',\n",
       " 'Hulk',\n",
       " '.']"
      ]
     },
     "execution_count": 7,
     "metadata": {},
     "output_type": "execute_result"
    }
   ],
   "source": [
    "words"
   ]
  },
  {
   "cell_type": "code",
   "execution_count": 8,
   "metadata": {},
   "outputs": [
    {
     "data": {
      "text/plain": [
       "list"
      ]
     },
     "execution_count": 8,
     "metadata": {},
     "output_type": "execute_result"
    }
   ],
   "source": [
    "type(words)"
   ]
  },
  {
   "cell_type": "code",
   "execution_count": 9,
   "metadata": {},
   "outputs": [
    {
     "name": "stdout",
     "output_type": "stream",
     "text": [
      "['I', 'am', 'Iron', 'Man.I', 'am', 'Batman', '.']\n",
      " \n",
      "['I', 'am', 'Spiderman', 'and', 'I', 'am', 'Superman', '.']\n",
      " \n",
      "['I', 'am', 'the', 'Hulk', '.']\n",
      " \n"
     ]
    }
   ],
   "source": [
    "for sentences in documents:\n",
    "    \n",
    "    print( word_tokenize(sentences))\n",
    "    print(\" \")"
   ]
  },
  {
   "cell_type": "code",
   "execution_count": 10,
   "metadata": {},
   "outputs": [],
   "source": [
    "#treebank tokenizer\n",
    "from nltk.tokenize import TreebankWordTokenizer\n",
    "tokenizer = TreebankWordTokenizer()"
   ]
  },
  {
   "cell_type": "code",
   "execution_count": 11,
   "metadata": {},
   "outputs": [
    {
     "data": {
      "text/plain": [
       "['I',\n",
       " 'am',\n",
       " 'Iron',\n",
       " 'Man.I',\n",
       " 'am',\n",
       " 'Batman.',\n",
       " 'I',\n",
       " 'am',\n",
       " 'Spiderman',\n",
       " 'and',\n",
       " 'I',\n",
       " 'am',\n",
       " 'Superman.',\n",
       " 'I',\n",
       " 'am',\n",
       " 'the',\n",
       " 'Hulk',\n",
       " '.']"
      ]
     },
     "execution_count": 11,
     "metadata": {},
     "output_type": "execute_result"
    }
   ],
   "source": [
    "tokenizer.tokenize(corpus)\n",
    "#with help of this full stop is not treated as word except last full stop"
   ]
  },
  {
   "cell_type": "markdown",
   "metadata": {},
   "source": [
    "text preprocessing stemming using nltk\n"
   ]
  },
  {
   "cell_type": "code",
   "execution_count": 12,
   "metadata": {},
   "outputs": [],
   "source": [
    "#porters stemmer\n",
    "from nltk.stem import PorterStemmer\n",
    "stemmer = PorterStemmer()\n",
    "list_mords= ['running','runner','ran','runs','easily','fairly']"
   ]
  },
  {
   "cell_type": "code",
   "execution_count": 13,
   "metadata": {},
   "outputs": [
    {
     "name": "stdout",
     "output_type": "stream",
     "text": [
      "running--->run\n",
      "runner--->runner\n",
      "ran--->ran\n",
      "runs--->run\n",
      "easily--->easili\n",
      "fairly--->fairli\n"
     ]
    }
   ],
   "source": [
    "for word in list_mords:\n",
    "    print(word+\"--->\"+stemmer.stem(word))"
   ]
  },
  {
   "cell_type": "code",
   "execution_count": 14,
   "metadata": {},
   "outputs": [
    {
     "data": {
      "text/plain": [
       "'run'"
      ]
     },
     "execution_count": 14,
     "metadata": {},
     "output_type": "execute_result"
    }
   ],
   "source": [
    "stemmer.stem(\"congradulations\")\n",
    "stemmer.stem(\"running\")\n"
   ]
  },
  {
   "cell_type": "code",
   "execution_count": 15,
   "metadata": {},
   "outputs": [],
   "source": [
    "from nltk.stem import RegexpStemmer\n",
    "reg_stemmer = RegexpStemmer('ing')"
   ]
  },
  {
   "cell_type": "code",
   "execution_count": 16,
   "metadata": {},
   "outputs": [
    {
     "data": {
      "text/plain": [
       "'eat'"
      ]
     },
     "execution_count": 16,
     "metadata": {},
     "output_type": "execute_result"
    }
   ],
   "source": [
    "reg_stemmer=RegexpStemmer('ing$|s$|e$|able$',min=4)\n",
    "reg_stemmer.stem('eating')"
   ]
  },
  {
   "cell_type": "markdown",
   "metadata": {},
   "source": [
    "Snowball stemmer"
   ]
  },
  {
   "cell_type": "code",
   "execution_count": 17,
   "metadata": {},
   "outputs": [],
   "source": [
    "from nltk.stem import SnowballStemmer\n",
    "snowball_stemmer = SnowballStemmer('english')\n"
   ]
  },
  {
   "cell_type": "code",
   "execution_count": 18,
   "metadata": {},
   "outputs": [
    {
     "name": "stdout",
     "output_type": "stream",
     "text": [
      "running--->run\n",
      "runner--->runner\n",
      "ran--->ran\n",
      "runs--->run\n",
      "easily--->easili\n",
      "fairly--->fair\n"
     ]
    }
   ],
   "source": [
    "for word in list_mords:\n",
    "    print(word+\"--->\"+snowball_stemmer.stem(word))"
   ]
  },
  {
   "cell_type": "code",
   "execution_count": 19,
   "metadata": {},
   "outputs": [
    {
     "data": {
      "text/plain": [
       "('fairli', 'fair')"
      ]
     },
     "execution_count": 19,
     "metadata": {},
     "output_type": "execute_result"
    }
   ],
   "source": [
    "stemmer.stem(\"fairly\"), snowball_stemmer.stem(\"fairly\")"
   ]
  },
  {
   "cell_type": "code",
   "execution_count": 20,
   "metadata": {},
   "outputs": [
    {
     "data": {
      "text/plain": [
       "('sportingli', 'sport')"
      ]
     },
     "execution_count": 20,
     "metadata": {},
     "output_type": "execute_result"
    }
   ],
   "source": [
    "stemmer.stem(\"sportingly\"), snowball_stemmer.stem(\"sportingly\")"
   ]
  },
  {
   "cell_type": "code",
   "execution_count": null,
   "metadata": {},
   "outputs": [],
   "source": []
  }
 ],
 "metadata": {
  "kernelspec": {
   "display_name": "venv",
   "language": "python",
   "name": "python3"
  },
  "language_info": {
   "codemirror_mode": {
    "name": "ipython",
    "version": 3
   },
   "file_extension": ".py",
   "mimetype": "text/x-python",
   "name": "python",
   "nbconvert_exporter": "python",
   "pygments_lexer": "ipython3",
   "version": "3.12.7"
  }
 },
 "nbformat": 4,
 "nbformat_minor": 2
}
